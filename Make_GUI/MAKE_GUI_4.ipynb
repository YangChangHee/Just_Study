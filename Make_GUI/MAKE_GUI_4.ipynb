{
 "cells": [
  {
   "cell_type": "code",
   "execution_count": 1,
   "metadata": {},
   "outputs": [],
   "source": [
    "from tkinter import *"
   ]
  },
  {
   "cell_type": "code",
   "execution_count": 8,
   "metadata": {},
   "outputs": [],
   "source": [
    "win =Tk()\n",
    "win.geometry(\"400x200\")\n",
    "win.title(\"pack\")\n",
    "win.option_add(\"*Font\",\"궁서 20\")\n",
    "\n",
    "ent = Entry(win)\n",
    "ent.pack()\n",
    "\n",
    "btn = Button(win)\n",
    "btn.config(text=\"버튼\")\n",
    "def aa():\n",
    "    btn.pack(pady = ent.get())\n",
    "btn.config(command=aa)\n",
    "btn.pack()\n",
    "win.mainloop()"
   ]
  },
  {
   "cell_type": "code",
   "execution_count": 17,
   "metadata": {},
   "outputs": [],
   "source": [
    "win =Tk()\n",
    "win.geometry(\"400x200\")\n",
    "win.title(\"grid\")\n",
    "win.option_add(\"*Font\",\"궁서 20\")\n",
    "\n",
    "# 4X3 버튼 array\n",
    "btn_list= []\n",
    "col_num = 4\n",
    "row_num = 3\n",
    "for j in range(row_num):\n",
    "    for i in range(col_num):\n",
    "        btn = Button(win)\n",
    "        btn.config(text=\"{}.{}\".format(i,j))\n",
    "        btn.grid(column=i,row=j, padx=10, pady= 10)\n",
    "        btn_list.append(btn)\n",
    "        \n",
    "btn = Button(win)\n",
    "btn.config(text=\"new\")\n",
    "btn.grid(column =1, row = 2, columnspan =2)\n",
    "        \n",
    "\"\"\"\n",
    "btn = Button(win)\n",
    "btn.config(text=\"0.0\")\n",
    "btn.grid(column=0,row=0)\n",
    "\n",
    "btn1 = Button(win)\n",
    "btn1.config(text=\"1.0\")\n",
    "btn1.grid(column=1,row=0)\n",
    "\n",
    "btn2 = Button(win)\n",
    "btn2.config(text=\"0.1\")\n",
    "btn2.grid(column=0,row=1)\n",
    "\n",
    "btn3 = Button(win)\n",
    "btn3.config(text=\"0.3\")\n",
    "btn3.grid(column=0,row=3) # 3이 아닌 2가 된다.\n",
    "\"\"\"\n",
    "win.mainloop()"
   ]
  },
  {
   "cell_type": "code",
   "execution_count": 22,
   "metadata": {},
   "outputs": [],
   "source": [
    "win =Tk()\n",
    "win.geometry(\"400x200\")\n",
    "win.title(\"grid\")\n",
    "win.option_add(\"*Font\",\"궁서 20\")\n",
    "xx=0.3\n",
    "yy=0.4\n",
    "btn = Button(win)\n",
    "btn.config(text=\"({},{})\".format(xx,yy))\n",
    "btn.place(relx=xx,rely=yy)\n",
    "win.mainloop()"
   ]
  },
  {
   "cell_type": "code",
   "execution_count": null,
   "metadata": {},
   "outputs": [],
   "source": []
  }
 ],
 "metadata": {
  "kernelspec": {
   "display_name": "Python 3",
   "language": "python",
   "name": "python3"
  },
  "language_info": {
   "codemirror_mode": {
    "name": "ipython",
    "version": 3
   },
   "file_extension": ".py",
   "mimetype": "text/x-python",
   "name": "python",
   "nbconvert_exporter": "python",
   "pygments_lexer": "ipython3",
   "version": "3.6.10"
  }
 },
 "nbformat": 4,
 "nbformat_minor": 4
}
