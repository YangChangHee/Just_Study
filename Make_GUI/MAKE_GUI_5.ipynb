{
 "cells": [
  {
   "cell_type": "markdown",
   "metadata": {},
   "source": [
    "# Random Button"
   ]
  },
  {
   "cell_type": "code",
   "execution_count": 7,
   "metadata": {},
   "outputs": [],
   "source": [
    "from tkinter import *\n",
    "import random\n",
    "from datetime import datetime"
   ]
  },
  {
   "cell_type": "code",
   "execution_count": 23,
   "metadata": {},
   "outputs": [],
   "source": [
    "win = Tk()\n",
    "win.title(\"AIM_GAME\")\n",
    "win.geometry(\"550x150\")\n",
    "win.option_add(\"*Font\",\"궁서 20\")\n",
    "\n",
    "# Label\n",
    "lab = Label(win)\n",
    "lab.config(text=\"표적 개수\")\n",
    "lab.grid(column=0, row=0, padx=20, pady=20)\n",
    "\n",
    "#Entry\n",
    "ent = Entry(win)\n",
    "ent.grid(column=1, row=0, padx=20, pady=20)\n",
    "\n",
    "k = 1\n",
    "\n",
    "def cc():\n",
    "    global k\n",
    "    if k <num_t:\n",
    "        k +=1\n",
    "        btn.destroy()\n",
    "        ran_btn()\n",
    "    else : \n",
    "        final = datetime.now()\n",
    "        dif_sec=(final-start).total_seconds()\n",
    "        btn.destroy()\n",
    "        lab = Label(win)\n",
    "        lab.config(text=\"clear \"+str(dif_sec)+\"초\")\n",
    "        lab.pack(pady= 230)\n",
    "\n",
    "def ran_btn():\n",
    "    global btn\n",
    "    btn=Button(win)\n",
    "    btn.config(bg=\"red\")\n",
    "    btn.config(command=cc)\n",
    "    btn.config(text=k)\n",
    "    btn.place(relx=random.random(),rely=random.random())\n",
    "\n",
    "def bnt_f():\n",
    "    global num_t # 밖에서도 쓴다.\n",
    "    global start\n",
    "    num_t=int(ent.get())\n",
    "    #win.gird_slaves() # [label, ent, btn]\n",
    "    for wg in win.grid_slaves():\n",
    "        wg.destroy()\n",
    "    #win.pack_slaves() 만약 pack으로 했다면\n",
    "    win.geometry(\"500x500\")\n",
    "    ran_btn()\n",
    "    start = datetime.now()\n",
    "    # 랜덤한 위치에서 버튼이 생성\n",
    "\n",
    "#Button\n",
    "btn=Button(win)\n",
    "btn.config(text=\"시작\")\n",
    "btn.config(command=bnt_f)\n",
    "btn.grid(column=0, row=1,columnspan=2)\n",
    "\n",
    "win.mainloop()"
   ]
  }
 ],
 "metadata": {
  "kernelspec": {
   "display_name": "Python 3",
   "language": "python",
   "name": "python3"
  },
  "language_info": {
   "codemirror_mode": {
    "name": "ipython",
    "version": 3
   },
   "file_extension": ".py",
   "mimetype": "text/x-python",
   "name": "python",
   "nbconvert_exporter": "python",
   "pygments_lexer": "ipython3",
   "version": "3.6.10"
  }
 },
 "nbformat": 4,
 "nbformat_minor": 4
}
