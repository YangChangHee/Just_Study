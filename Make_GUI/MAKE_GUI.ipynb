{
 "cells": [
  {
   "cell_type": "markdown",
   "id": "painful-garbage",
   "metadata": {},
   "source": [
    "# GUI(Graphical User Interface)"
   ]
  },
  {
   "cell_type": "code",
   "execution_count": 2,
   "id": "derived-planning",
   "metadata": {},
   "outputs": [],
   "source": [
    "from tkinter import * # *는 tkinter를 쓰지 않아도 됨"
   ]
  },
  {
   "cell_type": "markdown",
   "id": "distinct-track",
   "metadata": {},
   "source": [
    "# Function Tk"
   ]
  },
  {
   "cell_type": "code",
   "execution_count": 3,
   "id": "existing-assurance",
   "metadata": {},
   "outputs": [],
   "source": [
    "win = Tk()"
   ]
  },
  {
   "cell_type": "markdown",
   "id": "flying-history",
   "metadata": {},
   "source": [
    "# Geometry"
   ]
  },
  {
   "cell_type": "code",
   "execution_count": 4,
   "id": "operational-composite",
   "metadata": {},
   "outputs": [
    {
     "data": {
      "text/plain": [
       "''"
      ]
     },
     "execution_count": 4,
     "metadata": {},
     "output_type": "execute_result"
    }
   ],
   "source": [
    "win.geometry(\"500x500\") #창의 크기를 키우기"
   ]
  },
  {
   "cell_type": "markdown",
   "id": "norman-company",
   "metadata": {},
   "source": [
    "# Title"
   ]
  },
  {
   "cell_type": "code",
   "execution_count": 5,
   "id": "organic-update",
   "metadata": {},
   "outputs": [
    {
     "data": {
      "text/plain": [
       "''"
      ]
     },
     "execution_count": 5,
     "metadata": {},
     "output_type": "execute_result"
    }
   ],
   "source": [
    "win.title(\"temp\")"
   ]
  },
  {
   "cell_type": "markdown",
   "id": "magnetic-brazilian",
   "metadata": {},
   "source": [
    "# Font"
   ]
  },
  {
   "cell_type": "code",
   "execution_count": 7,
   "id": "amber-fifth",
   "metadata": {},
   "outputs": [],
   "source": [
    "win.option_add(\"*Font\",\"맑은고딕 25\")"
   ]
  },
  {
   "cell_type": "markdown",
   "id": "adjusted-security",
   "metadata": {},
   "source": [
    "# Button"
   ]
  },
  {
   "cell_type": "code",
   "execution_count": 8,
   "id": "celtic-database",
   "metadata": {},
   "outputs": [],
   "source": [
    "btn=Button(win, text=\"버튼\")"
   ]
  },
  {
   "cell_type": "code",
   "execution_count": 9,
   "id": "incident-sword",
   "metadata": {},
   "outputs": [],
   "source": [
    "btn.pack()"
   ]
  },
  {
   "cell_type": "markdown",
   "id": "invalid-thumb",
   "metadata": {},
   "source": [
    "# mainwindow"
   ]
  },
  {
   "cell_type": "code",
   "execution_count": null,
   "id": "according-brick",
   "metadata": {},
   "outputs": [],
   "source": [
    "win.mainloop()"
   ]
  }
 ],
 "metadata": {
  "kernelspec": {
   "display_name": "Python 3",
   "language": "python",
   "name": "python3"
  },
  "language_info": {
   "codemirror_mode": {
    "name": "ipython",
    "version": 3
   },
   "file_extension": ".py",
   "mimetype": "text/x-python",
   "name": "python",
   "nbconvert_exporter": "python",
   "pygments_lexer": "ipython3",
   "version": "3.6.12"
  }
 },
 "nbformat": 4,
 "nbformat_minor": 5
}
