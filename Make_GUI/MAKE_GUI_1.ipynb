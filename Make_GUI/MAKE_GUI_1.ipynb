{
 "cells": [
  {
   "cell_type": "markdown",
   "id": "opposed-tissue",
   "metadata": {},
   "source": [
    "# Present Time"
   ]
  },
  {
   "cell_type": "code",
   "execution_count": 1,
   "id": "equipped-chocolate",
   "metadata": {},
   "outputs": [],
   "source": [
    "from tkinter import *"
   ]
  },
  {
   "cell_type": "code",
   "execution_count": 3,
   "id": "dietary-swing",
   "metadata": {},
   "outputs": [],
   "source": [
    "win = Tk()\n",
    "win.geometry(\"300x100\")\n",
    "win.title(\"what time?\")\n",
    "win.option_add(\"*Font\",\"궁서 20\")"
   ]
  },
  {
   "cell_type": "markdown",
   "id": "catholic-start",
   "metadata": {},
   "source": [
    "# Make Button"
   ]
  },
  {
   "cell_type": "code",
   "execution_count": 9,
   "id": "south-spokesman",
   "metadata": {},
   "outputs": [],
   "source": [
    "btn=Button(win)\n",
    "btn.config(text=\"현재 시각\")\n",
    "btn.config(width = 10, height = 2)\n",
    "\n",
    "def alert():\n",
    "    print(\"버튼이 눌림\")\n",
    "\n",
    "def what_time():\n",
    "    print(datetime.now())\n",
    "\n",
    "def what_time_1():\n",
    "    dnow=datetime.now()\n",
    "    btn.config(text=dnow)\n",
    "\n",
    "btn.config(command = what_time) # function input\n",
    "btn.pack()"
   ]
  },
  {
   "cell_type": "code",
   "execution_count": 6,
   "id": "abstract-master",
   "metadata": {},
   "outputs": [],
   "source": [
    "from datetime import datetime"
   ]
  },
  {
   "cell_type": "code",
   "execution_count": 8,
   "id": "distinguished-constraint",
   "metadata": {},
   "outputs": [
    {
     "name": "stdout",
     "output_type": "stream",
     "text": [
      "2021-04-25 14:20:07.683251\n"
     ]
    }
   ],
   "source": []
  },
  {
   "cell_type": "code",
   "execution_count": null,
   "id": "trying-special",
   "metadata": {},
   "outputs": [],
   "source": []
  }
 ],
 "metadata": {
  "kernelspec": {
   "display_name": "Python 3",
   "language": "python",
   "name": "python3"
  },
  "language_info": {
   "codemirror_mode": {
    "name": "ipython",
    "version": 3
   },
   "file_extension": ".py",
   "mimetype": "text/x-python",
   "name": "python",
   "nbconvert_exporter": "python",
   "pygments_lexer": "ipython3",
   "version": "3.6.12"
  }
 },
 "nbformat": 4,
 "nbformat_minor": 5
}
