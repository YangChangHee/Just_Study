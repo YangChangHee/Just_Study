{
 "cells": [
  {
   "cell_type": "markdown",
   "metadata": {},
   "source": [
    "# Make Label"
   ]
  },
  {
   "cell_type": "code",
   "execution_count": 1,
   "metadata": {},
   "outputs": [],
   "source": [
    "from tkinter import *"
   ]
  },
  {
   "cell_type": "code",
   "execution_count": 4,
   "metadata": {},
   "outputs": [],
   "source": [
    "win = Tk()\n",
    "win.title(\"Daum Log-in\")\n",
    "win.geometry(\"400x300\")\n",
    "win.option_add(\"*Font\",\"궁서 20\")\n",
    "\n",
    "#다음 로고\n",
    "#lab_d =Label(win)\n",
    "#img= PhotoImage(file=\"*\",master=win)\n",
    "#img=img.subsample(8)# 1/8 size\n",
    "#lab_d.config(image=img)\n",
    "#lab_d.pack()\n",
    "# id 라벨\n",
    "lab1=Label(win)\n",
    "lab1.config(text=\"ID\")\n",
    "lab1.pack()\n",
    "\n",
    "# id 입력창\n",
    "ent1 = Entry(win)\n",
    "ent1.insert(0,\"temp@temp.com\")# 0=> 맨앞쪽에 적는다.\n",
    "def clear(event):\n",
    "    if ent1.get() == \"temp@temp.com\": # 초기와 같은 문자라면 지워라.\n",
    "        ent1.delete(0,len(ent1.get()))#ent1.get() ent1을 가져와라.\n",
    "        \n",
    "ent1.bind(\"<Button-1>\",clear)# 입력이 들어왔을때 뭐를 해라.\n",
    "ent1.pack()\n",
    "\n",
    "# pw 라벨\n",
    "lab2=Label(win)\n",
    "lab2.config(text=\"Password\")\n",
    "lab2.pack()\n",
    "\n",
    "# pw 입력창\n",
    "ent2=Entry(win)\n",
    "ent2.config(show=\"*\")\n",
    "ent2.pack()\n",
    "\n",
    "# 로그인 버튼\n",
    "btn=Button(win)\n",
    "btn.config(text=\"로그인\")\n",
    "def login():\n",
    "    my_id = ent1.get()\n",
    "    my_pw = ent2.get()\n",
    "    print(my_id,my_pw)\n",
    "    lab3.config(text=\"[메시지] 로그인 성공\")\n",
    "# 메시지 라벨\n",
    "lab3 = Label(win)\n",
    "lab3.pack\n",
    "btn.config(command=login)\n",
    "btn.pack()\n",
    "win.mainloop()"
   ]
  },
  {
   "cell_type": "markdown",
   "metadata": {},
   "source": [
    "# Chrome Driver install\n",
    "\n",
    "## 자신이 맞는 크롬버전을 받기"
   ]
  },
  {
   "cell_type": "code",
   "execution_count": 5,
   "metadata": {},
   "outputs": [
    {
     "name": "stdout",
     "output_type": "stream",
     "text": [
      "Collecting selenium\n",
      "  Downloading selenium-3.141.0-py2.py3-none-any.whl (904 kB)\n",
      "Requirement already satisfied: urllib3 in c:\\users\\82102\\anaconda3\\envs\\py36\\lib\\site-packages (from selenium) (1.25.9)\n",
      "Installing collected packages: selenium\n",
      "Successfully installed selenium-3.141.0\n",
      "Note: you may need to restart the kernel to use updated packages.\n"
     ]
    }
   ],
   "source": [
    "pip install selenium"
   ]
  },
  {
   "cell_type": "code",
   "execution_count": 10,
   "metadata": {},
   "outputs": [],
   "source": [
    "from selenium import webdriver\n",
    "driver = webdriver.Chrome(\"chromedriver.exe\")\n",
    "url=\"https://accounts.kakao.com/login?continue=https%3A%2F%2Flogins.daum.net%2Faccounts%2Fksso.do%3Frescue%3Dtrue%26url%3Dhttps%253A%252F%252Fwww.daum.net%252F\"\n",
    "driver.get(url)\n",
    "driver.implicitly_wait(5) # 최대 5초까지 기다리겠다."
   ]
  },
  {
   "cell_type": "code",
   "execution_count": 5,
   "metadata": {},
   "outputs": [],
   "source": [
    "xpath1 = \"//input[@name='email']\"\n",
    "driver.find_element_by_xpath(xpath1).send_keys(\"aaa\")# id에 aaa가 입력됨\n",
    "driver.implicitly_wait(5)"
   ]
  },
  {
   "cell_type": "code",
   "execution_count": null,
   "metadata": {},
   "outputs": [],
   "source": [
    "xpath2 = \"//input[@name='password']\"\n",
    "driver.find_element_by_xpath(xpath2).send_keys(\"bbb\")# pw에 aaa가 입력됨\n",
    "driver.implicitly_wait(5)"
   ]
  },
  {
   "cell_type": "code",
   "execution_count": null,
   "metadata": {},
   "outputs": [],
   "source": [
    "xpath3 = \"//button[@class='btn_g btn_confirm submit']\"\n",
    "driver.find_element_by_xpath(xpath3).click()# 로그인 버튼 클릭"
   ]
  },
  {
   "cell_type": "code",
   "execution_count": 8,
   "metadata": {},
   "outputs": [],
   "source": [
    "def login():\n",
    "    driver = webdriver.Chrome(\"chromedriver.exe\")\n",
    "    url=\"https://accounts.kakao.com/login?continue=https%3A%2F%2Flogins.daum.net%2Faccounts%2Fksso.do%3Frescue%3Dtrue%26url%3Dhttps%253A%252F%252Fwww.daum.net%252F\"\n",
    "    driver.get(url)\n",
    "    driver.implicitly_wait(5)\n",
    "    xpath1 = \"//input[@name='email']\"\n",
    "    driver.find_element_by_xpath(xpath1).send_keys(ent1.get())# id에 aaa가 입력됨\n",
    "    driver.implicitly_wait(5)\n",
    "    xpath2 = \"//input[@name='password']\"\n",
    "    driver.find_element_by_xpath(xpath2).send_keys(ent2.get())# pw에 aaa가 입력됨\n",
    "    driver.implicitly_wait(5)\n",
    "    xpath3 = \"//button[@class='btn_g btn_confirm submit']\"\n",
    "    driver.find_element_by_xpath(xpath3).click()"
   ]
  },
  {
   "cell_type": "code",
   "execution_count": null,
   "metadata": {},
   "outputs": [],
   "source": []
  }
 ],
 "metadata": {
  "kernelspec": {
   "display_name": "Python 3",
   "language": "python",
   "name": "python3"
  },
  "language_info": {
   "codemirror_mode": {
    "name": "ipython",
    "version": 3
   },
   "file_extension": ".py",
   "mimetype": "text/x-python",
   "name": "python",
   "nbconvert_exporter": "python",
   "pygments_lexer": "ipython3",
   "version": "3.6.10"
  }
 },
 "nbformat": 4,
 "nbformat_minor": 5
}
