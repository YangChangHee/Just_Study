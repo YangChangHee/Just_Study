{
 "cells": [
  {
   "cell_type": "code",
   "execution_count": 1,
   "id": "technological-tumor",
   "metadata": {},
   "outputs": [],
   "source": [
    "import numpy as np"
   ]
  },
  {
   "cell_type": "code",
   "execution_count": 3,
   "id": "foreign-bumper",
   "metadata": {},
   "outputs": [],
   "source": [
    "X1=[[1,0,1],[1,1,0]]\n",
    "X2=[[1,1],[0,1],[1,0]]"
   ]
  },
  {
   "cell_type": "code",
   "execution_count": 6,
   "id": "existing-geography",
   "metadata": {},
   "outputs": [],
   "source": [
    "X1=np.matrix(X1)\n",
    "X2=np.matrix(X2)"
   ]
  },
  {
   "cell_type": "code",
   "execution_count": 33,
   "id": "middle-borough",
   "metadata": {},
   "outputs": [],
   "source": [
    "def Mean_Vector(x):\n",
    "    result=[]\n",
    "    for i in range(len(x)):\n",
    "        make_x=np.sum(x[i])/(x.shape[1])\n",
    "        result.append([make_x])# NX1행렬이 나와야 하기 때문에\n",
    "    result=np.matrix(result)\n",
    "    return result"
   ]
  },
  {
   "cell_type": "code",
   "execution_count": 34,
   "id": "rapid-climate",
   "metadata": {},
   "outputs": [],
   "source": [
    "result_Mean_X1=Mean_Vector(X1)\n",
    "result_Mean_X2=Mean_Vector(X2)"
   ]
  },
  {
   "cell_type": "code",
   "execution_count": 35,
   "id": "billion-immunology",
   "metadata": {},
   "outputs": [
    {
     "data": {
      "text/plain": [
       "(matrix([[0.66666667],\n",
       "         [0.66666667]]),\n",
       " matrix([[1. ],\n",
       "         [0.5],\n",
       "         [0.5]]))"
      ]
     },
     "execution_count": 35,
     "metadata": {},
     "output_type": "execute_result"
    }
   ],
   "source": [
    "result_Mean_X1, result_Mean_X2"
   ]
  },
  {
   "cell_type": "code",
   "execution_count": 43,
   "id": "demonstrated-commerce",
   "metadata": {},
   "outputs": [],
   "source": [
    "def Correlation_Matrix(x):\n",
    "    result=(x*x.T)/(x.shape[1])\n",
    "    return result"
   ]
  },
  {
   "cell_type": "code",
   "execution_count": 47,
   "id": "incident-assumption",
   "metadata": {},
   "outputs": [],
   "source": [
    "result_correlatin_X1=Correlation_Matrix(X1)\n",
    "result_correlatin_X2=Correlation_Matrix(X2)"
   ]
  },
  {
   "cell_type": "code",
   "execution_count": 45,
   "id": "noble-magazine",
   "metadata": {},
   "outputs": [
    {
     "data": {
      "text/plain": [
       "matrix([[0.66666667, 0.33333333],\n",
       "        [0.33333333, 0.66666667]])"
      ]
     },
     "execution_count": 45,
     "metadata": {},
     "output_type": "execute_result"
    }
   ],
   "source": [
    "result_correlatin_X1"
   ]
  },
  {
   "cell_type": "code",
   "execution_count": 46,
   "id": "identified-outreach",
   "metadata": {},
   "outputs": [],
   "source": [
    "def Covariance_Matrix(x,y):\n",
    "    result=x-y*y.T\n",
    "    return result"
   ]
  },
  {
   "cell_type": "code",
   "execution_count": 49,
   "id": "prospective-momentum",
   "metadata": {},
   "outputs": [],
   "source": [
    "result_covariance_X1=Covariance_Matrix(result_correlatin_X1,result_Mean_X1)\n",
    "result_covariance_X2=Covariance_Matrix(result_correlatin_X2,result_Mean_X2)"
   ]
  },
  {
   "cell_type": "code",
   "execution_count": 50,
   "id": "further-allah",
   "metadata": {},
   "outputs": [
    {
     "data": {
      "text/plain": [
       "(matrix([[ 0.22222222, -0.11111111],\n",
       "         [-0.11111111,  0.22222222]]),\n",
       " matrix([[ 0.  ,  0.  ,  0.  ],\n",
       "         [ 0.  ,  0.25, -0.25],\n",
       "         [ 0.  , -0.25,  0.25]]))"
      ]
     },
     "execution_count": 50,
     "metadata": {},
     "output_type": "execute_result"
    }
   ],
   "source": [
    "result_covariance_X1,result_covariance_X2"
   ]
  },
  {
   "cell_type": "code",
   "execution_count": 51,
   "id": "structural-productivity",
   "metadata": {},
   "outputs": [],
   "source": [
    "Ex2 = [[77, 81, 74, 89, 78, 77, 75, 84, 79, 82, 69, 76, 74, 67, 74, 71, 67, 67, 70, 69]\n",
    "       ,[72, 67, 74, 64, 71,67, 72, 68, 75, 70, 83, 78, 76, 82, 80, 77, 83, 84, 80, 80]\n",
    "       ,[75, 68, 72, 68, 74, 68, 75, 73, 79, 72, 78, 75, 72, 74, 77, 70, 75, 79, 77, 76]]"
   ]
  },
  {
   "cell_type": "code",
   "execution_count": 53,
   "id": "proof-disposition",
   "metadata": {},
   "outputs": [],
   "source": [
    "Ex2=np.matrix(Ex2)"
   ]
  },
  {
   "cell_type": "code",
   "execution_count": 55,
   "id": "talented-purpose",
   "metadata": {},
   "outputs": [
    {
     "data": {
      "text/plain": [
       "(3, 20)"
      ]
     },
     "execution_count": 55,
     "metadata": {},
     "output_type": "execute_result"
    }
   ],
   "source": [
    "Ex2.shape"
   ]
  },
  {
   "cell_type": "code",
   "execution_count": 56,
   "id": "subjective-shareware",
   "metadata": {},
   "outputs": [],
   "source": [
    "result_Mean_Ex2=Mean_Vector(Ex2)\n",
    "result_correlatin_Ex2=Correlation_Matrix(Ex2)\n",
    "result_covariance_Ex2=Covariance_Matrix(result_correlatin_Ex2,result_Mean_Ex2)"
   ]
  },
  {
   "cell_type": "code",
   "execution_count": 57,
   "id": "still-kuwait",
   "metadata": {},
   "outputs": [
    {
     "data": {
      "text/plain": [
       "(matrix([[75.  ],\n",
       "         [75.15],\n",
       "         [73.85]]),\n",
       " matrix([[5660.2 , 5604.3 , 5528.05],\n",
       "         [5604.3 , 5682.75, 5564.5 ],\n",
       "         [5528.05, 5564.5 , 5465.25]]),\n",
       " matrix([[ 35.2   , -31.95  , -10.7   ],\n",
       "         [-31.95  ,  35.2275,  14.6725],\n",
       "         [-10.7   ,  14.6725,  11.4275]]))"
      ]
     },
     "execution_count": 57,
     "metadata": {},
     "output_type": "execute_result"
    }
   ],
   "source": [
    "result_Mean_Ex2, result_correlatin_Ex2, result_covariance_Ex2"
   ]
  },
  {
   "cell_type": "code",
   "execution_count": null,
   "id": "three-senegal",
   "metadata": {},
   "outputs": [],
   "source": []
  }
 ],
 "metadata": {
  "kernelspec": {
   "display_name": "Python 3",
   "language": "python",
   "name": "python3"
  },
  "language_info": {
   "codemirror_mode": {
    "name": "ipython",
    "version": 3
   },
   "file_extension": ".py",
   "mimetype": "text/x-python",
   "name": "python",
   "nbconvert_exporter": "python",
   "pygments_lexer": "ipython3",
   "version": "3.6.12"
  }
 },
 "nbformat": 4,
 "nbformat_minor": 5
}
