{
 "cells": [
  {
   "cell_type": "markdown",
   "id": "critical-newton",
   "metadata": {},
   "source": [
    "# Dataset Load\n",
    "* 1 => English\n",
    "* 2 => Math\n",
    "* 3 => Sience"
   ]
  },
  {
   "cell_type": "code",
   "execution_count": 1,
   "id": "academic-ribbon",
   "metadata": {},
   "outputs": [],
   "source": [
    "Ex2 = [[77, 81, 74, 89, 78, 77, 75, 84, 79, 82, 69, 76, 74, 67, 74, 71, 67, 67, 70, 69]\n",
    "       ,[72, 67, 74, 64, 71,67, 72, 68, 75, 70, 83, 78, 76, 82, 80, 77, 83, 84, 80, 80]\n",
    "       ,[75, 68, 72, 68, 74, 68, 75, 73, 79, 72, 78, 75, 72, 74, 77, 70, 75, 79, 77, 76]]"
   ]
  },
  {
   "cell_type": "markdown",
   "id": "smaller-julian",
   "metadata": {},
   "source": [
    "# Mean, Correlation, Covariance Matrix"
   ]
  },
  {
   "cell_type": "code",
   "execution_count": 2,
   "id": "adopted-billion",
   "metadata": {},
   "outputs": [],
   "source": [
    "def Mean_Vector(x):\n",
    "    result=[]\n",
    "    for i in range(len(x)):\n",
    "        make_x=np.sum(x[i])/(x.shape[1])\n",
    "        result.append([make_x])\n",
    "    result=np.matrix(result)\n",
    "    return result"
   ]
  },
  {
   "cell_type": "code",
   "execution_count": 3,
   "id": "mineral-closer",
   "metadata": {},
   "outputs": [],
   "source": [
    "def Correlation_Matrix(x):\n",
    "    result=(x*x.T)/(x.shape[1])\n",
    "    return result"
   ]
  },
  {
   "cell_type": "code",
   "execution_count": 4,
   "id": "technical-regular",
   "metadata": {},
   "outputs": [],
   "source": [
    "def Cross_Correlation_Matrix(x,y):\n",
    "    result=(x*y.T)/(x.shape[1])\n",
    "    return result"
   ]
  },
  {
   "cell_type": "code",
   "execution_count": 5,
   "id": "developing-peace",
   "metadata": {},
   "outputs": [],
   "source": [
    "def Covariance_Matrix(x,y):\n",
    "    result=x-y*y.T\n",
    "    return result"
   ]
  },
  {
   "cell_type": "markdown",
   "id": "capital-summary",
   "metadata": {},
   "source": [
    "# Homework 4.1"
   ]
  },
  {
   "cell_type": "code",
   "execution_count": 6,
   "id": "accepting-albany",
   "metadata": {},
   "outputs": [],
   "source": [
    "import numpy as np"
   ]
  },
  {
   "cell_type": "code",
   "execution_count": 7,
   "id": "enhanced-latex",
   "metadata": {},
   "outputs": [],
   "source": [
    "Ex2=np.array(Ex2)"
   ]
  },
  {
   "cell_type": "markdown",
   "id": "brazilian-intro",
   "metadata": {},
   "source": [
    "# ones Function"
   ]
  },
  {
   "cell_type": "code",
   "execution_count": 8,
   "id": "conventional-parallel",
   "metadata": {},
   "outputs": [],
   "source": [
    "new_x=np.ones(20)"
   ]
  },
  {
   "cell_type": "markdown",
   "id": "mexican-institution",
   "metadata": {},
   "source": [
    "# One and Math Score vstack"
   ]
  },
  {
   "cell_type": "code",
   "execution_count": 9,
   "id": "powered-collapse",
   "metadata": {},
   "outputs": [],
   "source": [
    "X_var=np.vstack((new_x,Ex2[1]))\n",
    "X_var=np.matrix(X_var)\n",
    "Cor_X=Correlation_Matrix(X_var)"
   ]
  },
  {
   "cell_type": "code",
   "execution_count": 10,
   "id": "original-mouth",
   "metadata": {},
   "outputs": [
    {
     "data": {
      "text/plain": [
       "matrix([[ 1.,  1.,  1.,  1.,  1.,  1.,  1.,  1.,  1.,  1.,  1.,  1.,  1.,\n",
       "          1.,  1.,  1.,  1.,  1.,  1.,  1.],\n",
       "        [72., 67., 74., 64., 71., 67., 72., 68., 75., 70., 83., 78., 76.,\n",
       "         82., 80., 77., 83., 84., 80., 80.]])"
      ]
     },
     "execution_count": 10,
     "metadata": {},
     "output_type": "execute_result"
    }
   ],
   "source": [
    "X_var"
   ]
  },
  {
   "cell_type": "code",
   "execution_count": 11,
   "id": "parental-facial",
   "metadata": {},
   "outputs": [
    {
     "data": {
      "text/plain": [
       "matrix([[1.00000e+00, 7.51500e+01],\n",
       "        [7.51500e+01, 5.68275e+03]])"
      ]
     },
     "execution_count": 11,
     "metadata": {},
     "output_type": "execute_result"
    }
   ],
   "source": [
    "Cor_X"
   ]
  },
  {
   "cell_type": "markdown",
   "id": "variable-ensemble",
   "metadata": {},
   "source": [
    "# English Score"
   ]
  },
  {
   "cell_type": "code",
   "execution_count": 12,
   "id": "hundred-criminal",
   "metadata": {},
   "outputs": [],
   "source": [
    "Y_var=Ex2[0]\n",
    "Y_var=np.matrix(Y_var)\n",
    "Cross_cor=Cross_Correlation_Matrix(X_var,Y_var)"
   ]
  },
  {
   "cell_type": "code",
   "execution_count": 13,
   "id": "received-tucson",
   "metadata": {},
   "outputs": [
    {
     "data": {
      "text/plain": [
       "matrix([[  75. ],\n",
       "        [5604.3]])"
      ]
     },
     "execution_count": 13,
     "metadata": {},
     "output_type": "execute_result"
    }
   ],
   "source": [
    "Cross_cor"
   ]
  },
  {
   "cell_type": "markdown",
   "id": "every-mistress",
   "metadata": {},
   "source": [
    "# Result Seta => Minimize Cost Function"
   ]
  },
  {
   "cell_type": "code",
   "execution_count": 14,
   "id": "spectacular-debate",
   "metadata": {},
   "outputs": [],
   "source": [
    "result_seta=np.linalg.inv(Cor_X)*Cross_cor"
   ]
  },
  {
   "cell_type": "code",
   "execution_count": 15,
   "id": "academic-worship",
   "metadata": {},
   "outputs": [
    {
     "data": {
      "text/plain": [
       "matrix([[143.15818608],\n",
       "        [ -0.90696189]])"
      ]
     },
     "execution_count": 15,
     "metadata": {},
     "output_type": "execute_result"
    }
   ],
   "source": [
    "result_seta"
   ]
  },
  {
   "cell_type": "markdown",
   "id": "terminal-defendant",
   "metadata": {},
   "source": [
    "# Visualize"
   ]
  },
  {
   "cell_type": "code",
   "execution_count": 17,
   "id": "active-encounter",
   "metadata": {},
   "outputs": [
    {
     "data": {
      "text/plain": [
       "[<matplotlib.lines.Line2D at 0x7fb430174eb8>]"
      ]
     },
     "execution_count": 17,
     "metadata": {},
     "output_type": "execute_result"
    },
    {
     "data": {
      "image/png": "[encoded data removed]",
      "text/plain": [
       "<Figure size 432x288 with 1 Axes>"
      ]
     },
     "metadata": {
      "needs_background": "light"
     },
     "output_type": "display_data"
    }
   ],
   "source": [
    "import matplotlib.pyplot as plt\n",
    "x=np.arange(60,85)\n",
    "y=result_seta[1]*x+result_seta[0]\n",
    "y=np.array(y)\n",
    "plt.scatter(Ex2[1],Ex2[0])\n",
    "plt.plot(x,y[0])"
   ]
  },
  {
   "cell_type": "markdown",
   "id": "growing-child",
   "metadata": {},
   "source": [
    "# Mean Squre Error"
   ]
  },
  {
   "cell_type": "code",
   "execution_count": 18,
   "id": "supreme-membrane",
   "metadata": {},
   "outputs": [],
   "source": [
    "def mean_squre_error(X_var,Y_var,result_seta):\n",
    "    result=0\n",
    "    X_var=np.array(X_var.T)\n",
    "    Y_var=np.array(Y_var.T)\n",
    "    new_var=np.hstack((X_var,Y_var))\n",
    "    seta=np.array(result_seta)\n",
    "    for i, j, k in new_var:\n",
    "        result+=((seta[1]*j + seta[0]*i)-k)**2\n",
    "    result=result/20\n",
    "    return result"
   ]
  },
  {
   "cell_type": "code",
   "execution_count": 19,
   "id": "worthy-vault",
   "metadata": {},
   "outputs": [],
   "source": [
    "mse=mean_squre_error(X_var,Y_var,result_seta)"
   ]
  },
  {
   "cell_type": "code",
   "execution_count": 20,
   "id": "smart-infrastructure",
   "metadata": {},
   "outputs": [
    {
     "data": {
      "text/plain": [
       "array([6.2225676])"
      ]
     },
     "execution_count": 20,
     "metadata": {},
     "output_type": "execute_result"
    }
   ],
   "source": [
    "mse"
   ]
  },
  {
   "cell_type": "markdown",
   "id": "dated-cargo",
   "metadata": {},
   "source": [
    "# Homework 4.2\n",
    "## Math + Science"
   ]
  },
  {
   "cell_type": "code",
   "execution_count": 22,
   "id": "premier-rotation",
   "metadata": {},
   "outputs": [],
   "source": [
    "new_x=np.ones(20)\n",
    "X_var=np.vstack((new_x,Ex2[1:]))"
   ]
  },
  {
   "cell_type": "code",
   "execution_count": 23,
   "id": "endless-worst",
   "metadata": {},
   "outputs": [
    {
     "data": {
      "text/plain": [
       "array([[ 1.,  1.,  1.,  1.,  1.,  1.,  1.,  1.,  1.,  1.,  1.,  1.,  1.,\n",
       "         1.,  1.,  1.,  1.,  1.,  1.,  1.],\n",
       "       [72., 67., 74., 64., 71., 67., 72., 68., 75., 70., 83., 78., 76.,\n",
       "        82., 80., 77., 83., 84., 80., 80.],\n",
       "       [75., 68., 72., 68., 74., 68., 75., 73., 79., 72., 78., 75., 72.,\n",
       "        74., 77., 70., 75., 79., 77., 76.]])"
      ]
     },
     "execution_count": 23,
     "metadata": {},
     "output_type": "execute_result"
    }
   ],
   "source": [
    "X_var"
   ]
  },
  {
   "cell_type": "code",
   "execution_count": 25,
   "id": "criminal-extreme",
   "metadata": {},
   "outputs": [],
   "source": [
    "X_var=np.matrix(X_var)\n",
    "Cor_X=Correlation_Matrix(X_var)"
   ]
  },
  {
   "cell_type": "code",
   "execution_count": 26,
   "id": "sublime-venture",
   "metadata": {},
   "outputs": [
    {
     "data": {
      "text/plain": [
       "matrix([[1.00000e+00, 7.51500e+01, 7.38500e+01],\n",
       "        [7.51500e+01, 5.68275e+03, 5.56450e+03],\n",
       "        [7.38500e+01, 5.56450e+03, 5.46525e+03]])"
      ]
     },
     "execution_count": 26,
     "metadata": {},
     "output_type": "execute_result"
    }
   ],
   "source": [
    "Cor_X"
   ]
  },
  {
   "cell_type": "code",
   "execution_count": 27,
   "id": "athletic-voice",
   "metadata": {},
   "outputs": [],
   "source": [
    "Y_var=Ex2[0]\n",
    "Y_var=np.matrix(Y_var)\n",
    "Cross_cor=Cross_Correlation_Matrix(X_var,Y_var)"
   ]
  },
  {
   "cell_type": "code",
   "execution_count": 28,
   "id": "excess-louisville",
   "metadata": {},
   "outputs": [
    {
     "data": {
      "text/plain": [
       "matrix([[  75.  ],\n",
       "        [5604.3 ],\n",
       "        [5528.05]])"
      ]
     },
     "execution_count": 28,
     "metadata": {},
     "output_type": "execute_result"
    }
   ],
   "source": [
    "Cross_cor"
   ]
  },
  {
   "cell_type": "code",
   "execution_count": 30,
   "id": "hourly-offer",
   "metadata": {},
   "outputs": [],
   "source": [
    "result_seta=np.linalg.inv(Cor_X)*Cross_cor"
   ]
  },
  {
   "cell_type": "code",
   "execution_count": 31,
   "id": "international-single",
   "metadata": {},
   "outputs": [
    {
     "data": {
      "text/plain": [
       "matrix([[122.28963651],\n",
       "        [ -1.11123919],\n",
       "        [  0.49045347]])"
      ]
     },
     "execution_count": 31,
     "metadata": {},
     "output_type": "execute_result"
    }
   ],
   "source": [
    "result_seta"
   ]
  },
  {
   "cell_type": "code",
   "execution_count": 32,
   "id": "biological-acoustic",
   "metadata": {},
   "outputs": [],
   "source": [
    "def mean_squre_error(X_var,Y_var,result_seta):\n",
    "    result=0\n",
    "    X_var=np.array(X_var.T)\n",
    "    Y_var=np.array(Y_var.T)\n",
    "    new_var=np.hstack((X_var,Y_var))\n",
    "    seta=np.array(result_seta)\n",
    "    for i, j, k, h in new_var:\n",
    "        result+=((seta[2]*k+seta[1]*j + seta[0]*i)-h)**2\n",
    "    result=result/20\n",
    "    return result"
   ]
  },
  {
   "cell_type": "code",
   "execution_count": 33,
   "id": "furnished-roller",
   "metadata": {},
   "outputs": [],
   "source": [
    "mse= mean_squre_error(X_var,Y_var,result_seta)"
   ]
  },
  {
   "cell_type": "code",
   "execution_count": 34,
   "id": "identical-director",
   "metadata": {},
   "outputs": [
    {
     "data": {
      "text/plain": [
       "array([4.94376005])"
      ]
     },
     "execution_count": 34,
     "metadata": {},
     "output_type": "execute_result"
    }
   ],
   "source": [
    "mse"
   ]
  },
  {
   "cell_type": "code",
   "execution_count": null,
   "id": "forward-rotation",
   "metadata": {},
   "outputs": [],
   "source": []
  }
 ],
 "metadata": {
  "kernelspec": {
   "display_name": "Python 3",
   "language": "python",
   "name": "python3"
  },
  "language_info": {
   "codemirror_mode": {
    "name": "ipython",
    "version": 3
   },
   "file_extension": ".py",
   "mimetype": "text/x-python",
   "name": "python",
   "nbconvert_exporter": "python",
   "pygments_lexer": "ipython3",
   "version": "3.6.12"
  }
 },
 "nbformat": 4,
 "nbformat_minor": 5
}
