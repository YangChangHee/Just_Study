{
 "cells": [
  {
   "cell_type": "markdown",
   "id": "wrong-hardwood",
   "metadata": {},
   "source": [
    "# Homework 4.3"
   ]
  },
  {
   "cell_type": "code",
   "execution_count": 1,
   "id": "dutch-stocks",
   "metadata": {},
   "outputs": [],
   "source": [
    "Ex = [-4,-3,14,8,1,-5,-7,-4,-2,6,10,22,15,-15,-20]"
   ]
  },
  {
   "cell_type": "code",
   "execution_count": 2,
   "id": "simple-trail",
   "metadata": {},
   "outputs": [],
   "source": [
    "import numpy as np"
   ]
  },
  {
   "cell_type": "markdown",
   "id": "proprietary-chicken",
   "metadata": {},
   "source": [
    "# Time Dataset Load\n",
    "# Time => 2"
   ]
  },
  {
   "cell_type": "code",
   "execution_count": 3,
   "id": "national-gibraltar",
   "metadata": {},
   "outputs": [],
   "source": [
    "def make_dataset(Ex,p):\n",
    "    X=[Ex[i:i+p] for i in range(len(Ex)-p)]\n",
    "    Y=[Ex[p+i] for i in range(len(Ex)-p)]\n",
    "    return X, Y"
   ]
  },
  {
   "cell_type": "code",
   "execution_count": 4,
   "id": "committed-fashion",
   "metadata": {},
   "outputs": [],
   "source": [
    "X,Y=make_dataset(Ex,2)"
   ]
  },
  {
   "cell_type": "markdown",
   "id": "aquatic-worthy",
   "metadata": {},
   "source": [
    "# Remake dataset"
   ]
  },
  {
   "cell_type": "code",
   "execution_count": 5,
   "id": "incomplete-bouquet",
   "metadata": {},
   "outputs": [],
   "source": [
    "X=np.array(X)\n",
    "X=np.matrix(X)\n",
    "X=X.T\n",
    "remake_x=np.vstack((X[1],X[0]))"
   ]
  },
  {
   "cell_type": "code",
   "execution_count": 6,
   "id": "engaging-amplifier",
   "metadata": {},
   "outputs": [
    {
     "data": {
      "text/plain": [
       "matrix([[ -3,  14,   8,   1,  -5,  -7,  -4,  -2,   6,  10,  22,  15, -15],\n",
       "        [ -4,  -3,  14,   8,   1,  -5,  -7,  -4,  -2,   6,  10,  22,  15]])"
      ]
     },
     "execution_count": 6,
     "metadata": {},
     "output_type": "execute_result"
    }
   ],
   "source": [
    "remake_x"
   ]
  },
  {
   "cell_type": "code",
   "execution_count": 7,
   "id": "serious-bandwidth",
   "metadata": {},
   "outputs": [],
   "source": [
    "Y=np.array(Y)\n",
    "Y=np.matrix(Y).T"
   ]
  },
  {
   "cell_type": "code",
   "execution_count": 8,
   "id": "boring-beverage",
   "metadata": {},
   "outputs": [],
   "source": [
    "def Cross_Correlation_Matrix(x,y):\n",
    "    result=(x*y)/(x.shape[1])\n",
    "    return result"
   ]
  },
  {
   "cell_type": "code",
   "execution_count": 9,
   "id": "ignored-influence",
   "metadata": {},
   "outputs": [],
   "source": [
    "def Correlation_Matrix(x):\n",
    "    result=(x*x.T)/(x.shape[1])\n",
    "    return result"
   ]
  },
  {
   "cell_type": "code",
   "execution_count": 10,
   "id": "continent-manufacturer",
   "metadata": {},
   "outputs": [],
   "source": [
    "Cor_X=Correlation_Matrix(remake_x)"
   ]
  },
  {
   "cell_type": "code",
   "execution_count": 11,
   "id": "oriental-blackjack",
   "metadata": {},
   "outputs": [
    {
     "data": {
      "text/plain": [
       "matrix([[110.30769231,  40.69230769],\n",
       "        [ 40.69230769,  94.23076923]])"
      ]
     },
     "execution_count": 11,
     "metadata": {},
     "output_type": "execute_result"
    }
   ],
   "source": [
    "Cor_X"
   ]
  },
  {
   "cell_type": "code",
   "execution_count": 12,
   "id": "systematic-mercury",
   "metadata": {},
   "outputs": [],
   "source": [
    "Cross_cor=Cross_Correlation_Matrix(remake_x,Y)"
   ]
  },
  {
   "cell_type": "code",
   "execution_count": 13,
   "id": "adequate-stroke",
   "metadata": {},
   "outputs": [
    {
     "data": {
      "text/plain": [
       "matrix([[ 62.84615385],\n",
       "        [-36.23076923]])"
      ]
     },
     "execution_count": 13,
     "metadata": {},
     "output_type": "execute_result"
    }
   ],
   "source": [
    "Cross_cor"
   ]
  },
  {
   "cell_type": "code",
   "execution_count": 14,
   "id": "remarkable-announcement",
   "metadata": {},
   "outputs": [],
   "source": [
    "result_seta=np.linalg.inv(Cor_X)*Cross_cor"
   ]
  },
  {
   "cell_type": "code",
   "execution_count": 15,
   "id": "recreational-patent",
   "metadata": {},
   "outputs": [
    {
     "data": {
      "text/plain": [
       "matrix([[ 0.84640871],\n",
       "        [-0.75000017]])"
      ]
     },
     "execution_count": 15,
     "metadata": {},
     "output_type": "execute_result"
    }
   ],
   "source": [
    "result_seta"
   ]
  },
  {
   "cell_type": "markdown",
   "id": "cleared-newman",
   "metadata": {},
   "source": [
    "# Mse"
   ]
  },
  {
   "cell_type": "code",
   "execution_count": 16,
   "id": "seventh-repeat",
   "metadata": {},
   "outputs": [],
   "source": [
    "def mean_squre_error(X_var,Y_var,result_seta):\n",
    "    result=0\n",
    "    X_var=np.array(X_var.T)\n",
    "    Y_var=np.array(Y_var.T)\n",
    "    new_var=np.hstack((X_var,Y_var))\n",
    "    seta=np.array(result_seta)\n",
    "    for i, j, k in new_var:\n",
    "        result+=((seta[1]*j + seta[0]*i)-k)**2\n",
    "    result=result/13\n",
    "    return result"
   ]
  },
  {
   "cell_type": "code",
   "execution_count": 17,
   "id": "instant-samoa",
   "metadata": {},
   "outputs": [],
   "source": [
    "mse=mean_squre_error(remake_x,Y.T,result_seta)"
   ]
  },
  {
   "cell_type": "markdown",
   "id": "controlled-signature",
   "metadata": {},
   "source": [
    "# Result"
   ]
  },
  {
   "cell_type": "code",
   "execution_count": 18,
   "id": "mature-press",
   "metadata": {},
   "outputs": [],
   "source": [
    "result_15 = -20*result_seta[0] + -15*result_seta[1]"
   ]
  },
  {
   "cell_type": "code",
   "execution_count": 19,
   "id": "stable-coalition",
   "metadata": {},
   "outputs": [
    {
     "data": {
      "text/plain": [
       "matrix([[-5.67817165]])"
      ]
     },
     "execution_count": 19,
     "metadata": {},
     "output_type": "execute_result"
    }
   ],
   "source": [
    "result_15"
   ]
  },
  {
   "cell_type": "markdown",
   "id": "everyday-scholarship",
   "metadata": {},
   "source": [
    "# Covariance"
   ]
  },
  {
   "cell_type": "code",
   "execution_count": 20,
   "id": "collectible-python",
   "metadata": {},
   "outputs": [],
   "source": [
    "def Mean_Vector(x):\n",
    "    result=[]\n",
    "    for i in range(len(x)):\n",
    "        make_x=np.sum(x[i])/(x.shape[1])\n",
    "        result.append([make_x])\n",
    "    result=np.matrix(result)\n",
    "    return result"
   ]
  },
  {
   "cell_type": "code",
   "execution_count": 21,
   "id": "narrow-jamaica",
   "metadata": {},
   "outputs": [],
   "source": [
    "mean_x=Mean_Vector(remake_x)"
   ]
  },
  {
   "cell_type": "code",
   "execution_count": 22,
   "id": "divine-corrections",
   "metadata": {},
   "outputs": [],
   "source": [
    "def Covariance_Matrix(x,y):\n",
    "    result=x-y*y.T\n",
    "    return result"
   ]
  },
  {
   "cell_type": "code",
   "execution_count": 23,
   "id": "homeless-hospital",
   "metadata": {},
   "outputs": [],
   "source": [
    "result_Cov=Covariance_Matrix(Cor_X,mean_x)"
   ]
  },
  {
   "cell_type": "code",
   "execution_count": 24,
   "id": "structured-routine",
   "metadata": {},
   "outputs": [],
   "source": [
    "result_num=0\n",
    "for i in range(2):\n",
    "    result_num+=np.diag(result_Cov,k=0)[i]\n",
    "result_num=result_num/2"
   ]
  },
  {
   "cell_type": "code",
   "execution_count": 25,
   "id": "stable-arcade",
   "metadata": {},
   "outputs": [
    {
     "data": {
      "text/plain": [
       "89.84023668639053"
      ]
     },
     "execution_count": 25,
     "metadata": {},
     "output_type": "execute_result"
    }
   ],
   "source": [
    "result_num"
   ]
  },
  {
   "cell_type": "code",
   "execution_count": 26,
   "id": "christian-statement",
   "metadata": {},
   "outputs": [
    {
     "data": {
      "text/plain": [
       "array([0.66805256])"
      ]
     },
     "execution_count": 26,
     "metadata": {},
     "output_type": "execute_result"
    }
   ],
   "source": [
    "mse/result_num"
   ]
  },
  {
   "cell_type": "markdown",
   "id": "funky-partnership",
   "metadata": {},
   "source": [
    "# Time => 4"
   ]
  },
  {
   "cell_type": "code",
   "execution_count": 27,
   "id": "fluid-interference",
   "metadata": {},
   "outputs": [],
   "source": [
    "X,Y=make_dataset(Ex,4)"
   ]
  },
  {
   "cell_type": "code",
   "execution_count": 28,
   "id": "demanding-asset",
   "metadata": {},
   "outputs": [],
   "source": [
    "X=np.array(X)\n",
    "X=np.matrix(X)\n",
    "X=X.T\n",
    "remake_x=np.vstack((X[3],X[2],X[1],X[0]))"
   ]
  },
  {
   "cell_type": "code",
   "execution_count": 29,
   "id": "rolled-advice",
   "metadata": {},
   "outputs": [
    {
     "data": {
      "text/plain": [
       "matrix([[  8,   1,  -5,  -7,  -4,  -2,   6,  10,  22,  15, -15],\n",
       "        [ 14,   8,   1,  -5,  -7,  -4,  -2,   6,  10,  22,  15],\n",
       "        [ -3,  14,   8,   1,  -5,  -7,  -4,  -2,   6,  10,  22],\n",
       "        [ -4,  -3,  14,   8,   1,  -5,  -7,  -4,  -2,   6,  10]])"
      ]
     },
     "execution_count": 29,
     "metadata": {},
     "output_type": "execute_result"
    }
   ],
   "source": [
    "remake_x"
   ]
  },
  {
   "cell_type": "code",
   "execution_count": 30,
   "id": "under-ecology",
   "metadata": {},
   "outputs": [],
   "source": [
    "Y=np.array(Y)\n",
    "Y=np.matrix(Y).T"
   ]
  },
  {
   "cell_type": "code",
   "execution_count": 31,
   "id": "sublime-breath",
   "metadata": {},
   "outputs": [],
   "source": [
    "Cor_X=Correlation_Matrix(remake_x)"
   ]
  },
  {
   "cell_type": "code",
   "execution_count": 32,
   "id": "clean-maple",
   "metadata": {},
   "outputs": [
    {
     "data": {
      "text/plain": [
       "matrix([[111.72727273,  50.81818182, -10.45454545, -31.        ],\n",
       "        [ 50.81818182, 109.09090909,  67.45454545,  14.45454545],\n",
       "        [-10.45454545,  67.45454545,  89.45454545,  38.54545455],\n",
       "        [-31.        ,  14.45454545,  38.54545455,  46.90909091]])"
      ]
     },
     "execution_count": 32,
     "metadata": {},
     "output_type": "execute_result"
    }
   ],
   "source": [
    "Cor_X"
   ]
  },
  {
   "cell_type": "code",
   "execution_count": 33,
   "id": "shaped-attraction",
   "metadata": {},
   "outputs": [],
   "source": [
    "Cross_cor=Cross_Correlation_Matrix(remake_x,Y)"
   ]
  },
  {
   "cell_type": "code",
   "execution_count": 34,
   "id": "entire-mixture",
   "metadata": {},
   "outputs": [
    {
     "data": {
      "text/plain": [
       "matrix([[ 67.90909091],\n",
       "        [-35.54545455],\n",
       "        [-68.09090909],\n",
       "        [-57.18181818]])"
      ]
     },
     "execution_count": 34,
     "metadata": {},
     "output_type": "execute_result"
    }
   ],
   "source": [
    "Cross_cor"
   ]
  },
  {
   "cell_type": "code",
   "execution_count": 35,
   "id": "planned-vancouver",
   "metadata": {},
   "outputs": [],
   "source": [
    "result_seta=np.linalg.inv(Cor_X)*Cross_cor"
   ]
  },
  {
   "cell_type": "code",
   "execution_count": 36,
   "id": "economic-afternoon",
   "metadata": {},
   "outputs": [
    {
     "data": {
      "text/plain": [
       "matrix([[ 0.72572042],\n",
       "        [-0.60482838],\n",
       "        [ 0.02788513],\n",
       "        [-0.57593977]])"
      ]
     },
     "execution_count": 36,
     "metadata": {},
     "output_type": "execute_result"
    }
   ],
   "source": [
    "result_seta"
   ]
  },
  {
   "cell_type": "code",
   "execution_count": 37,
   "id": "incident-sharing",
   "metadata": {},
   "outputs": [],
   "source": [
    "def mean_squre_error(X_var,Y_var,result_seta):\n",
    "    result=0\n",
    "    X_var=np.array(X_var.T)\n",
    "    Y_var=np.array(Y_var.T)\n",
    "    new_var=np.hstack((X_var,Y_var))\n",
    "    seta=np.array(result_seta)\n",
    "    for i, j, k, h, u in new_var:\n",
    "        result+=((seta[3]*h+seta[2]*k+seta[1]*j + seta[0]*i)-u)**2\n",
    "    result=result/11\n",
    "    return result"
   ]
  },
  {
   "cell_type": "code",
   "execution_count": 38,
   "id": "blank-payday",
   "metadata": {},
   "outputs": [],
   "source": [
    "mse=mean_squre_error(remake_x,Y.T,result_seta)"
   ]
  },
  {
   "cell_type": "code",
   "execution_count": 39,
   "id": "dress-guitar",
   "metadata": {},
   "outputs": [],
   "source": [
    "result_15 = -20*result_seta[0] + -15*result_seta[1] +15*result_seta[2] + 22*result_seta[3]"
   ]
  },
  {
   "cell_type": "code",
   "execution_count": 40,
   "id": "differential-performance",
   "metadata": {},
   "outputs": [
    {
     "data": {
      "text/plain": [
       "matrix([[-17.69438056]])"
      ]
     },
     "execution_count": 40,
     "metadata": {},
     "output_type": "execute_result"
    }
   ],
   "source": [
    "result_15"
   ]
  },
  {
   "cell_type": "markdown",
   "id": "favorite-montana",
   "metadata": {},
   "source": [
    "# Covariance"
   ]
  },
  {
   "cell_type": "code",
   "execution_count": 41,
   "id": "unique-porcelain",
   "metadata": {},
   "outputs": [],
   "source": [
    "def Mean_Vector(x):\n",
    "    result=[]\n",
    "    for i in range(len(x)):\n",
    "        make_x=np.sum(x[i])/(x.shape[1])\n",
    "        result.append([make_x])\n",
    "    result=np.matrix(result)\n",
    "    return result"
   ]
  },
  {
   "cell_type": "code",
   "execution_count": 42,
   "id": "consolidated-literacy",
   "metadata": {},
   "outputs": [],
   "source": [
    "mean_x=Mean_Vector(remake_x)"
   ]
  },
  {
   "cell_type": "code",
   "execution_count": 43,
   "id": "level-masters",
   "metadata": {},
   "outputs": [],
   "source": [
    "def Covariance_Matrix(x,y):\n",
    "    result=x-y*y.T\n",
    "    return result"
   ]
  },
  {
   "cell_type": "code",
   "execution_count": 44,
   "id": "latest-ceiling",
   "metadata": {},
   "outputs": [],
   "source": [
    "result_Cov=Covariance_Matrix(Cor_X,mean_x)"
   ]
  },
  {
   "cell_type": "markdown",
   "id": "norman-female",
   "metadata": {},
   "source": [
    "# diag => (i,i)"
   ]
  },
  {
   "cell_type": "code",
   "execution_count": 45,
   "id": "convinced-orientation",
   "metadata": {},
   "outputs": [],
   "source": [
    "result_num=0\n",
    "for i in range(4):\n",
    "    result_num+=np.diag(result_Cov,k=0)[i]"
   ]
  },
  {
   "cell_type": "code",
   "execution_count": 46,
   "id": "occupational-timeline",
   "metadata": {},
   "outputs": [],
   "source": [
    "result_num=result_num/4"
   ]
  },
  {
   "cell_type": "code",
   "execution_count": 47,
   "id": "substantial-hollow",
   "metadata": {},
   "outputs": [
    {
     "data": {
      "text/plain": [
       "76.89669421487604"
      ]
     },
     "execution_count": 47,
     "metadata": {},
     "output_type": "execute_result"
    }
   ],
   "source": [
    "result_num"
   ]
  },
  {
   "cell_type": "code",
   "execution_count": 48,
   "id": "artificial-savings",
   "metadata": {},
   "outputs": [
    {
     "data": {
      "text/plain": [
       "array([0.52611175])"
      ]
     },
     "execution_count": 48,
     "metadata": {},
     "output_type": "execute_result"
    }
   ],
   "source": [
    "mse/result_num"
   ]
  },
  {
   "cell_type": "code",
   "execution_count": null,
   "id": "complete-poverty",
   "metadata": {},
   "outputs": [],
   "source": []
  }
 ],
 "metadata": {
  "kernelspec": {
   "display_name": "Python 3",
   "language": "python",
   "name": "python3"
  },
  "language_info": {
   "codemirror_mode": {
    "name": "ipython",
    "version": 3
   },
   "file_extension": ".py",
   "mimetype": "text/x-python",
   "name": "python",
   "nbconvert_exporter": "python",
   "pygments_lexer": "ipython3",
   "version": "3.6.12"
  }
 },
 "nbformat": 4,
 "nbformat_minor": 5
}
