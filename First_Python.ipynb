{
 "cells": [
  {
   "cell_type": "code",
   "execution_count": 1,
   "id": "exclusive-connecticut",
   "metadata": {},
   "outputs": [],
   "source": [
    "a=1"
   ]
  },
  {
   "cell_type": "code",
   "execution_count": 2,
   "id": "decent-contact",
   "metadata": {},
   "outputs": [
    {
     "data": {
      "text/plain": [
       "1"
      ]
     },
     "execution_count": 2,
     "metadata": {},
     "output_type": "execute_result"
    }
   ],
   "source": [
    "a"
   ]
  },
  {
   "cell_type": "markdown",
   "id": "flexible-situation",
   "metadata": {},
   "source": [
    "# Data type"
   ]
  },
  {
   "cell_type": "code",
   "execution_count": 3,
   "id": "copyrighted-rebel",
   "metadata": {},
   "outputs": [],
   "source": [
    "a = 123\n",
    "b = -178\n",
    "c = 0"
   ]
  },
  {
   "cell_type": "code",
   "execution_count": 4,
   "id": "shaped-victor",
   "metadata": {},
   "outputs": [
    {
     "name": "stdout",
     "output_type": "stream",
     "text": [
      "123 -178 0\n"
     ]
    }
   ],
   "source": [
    "print(a,b,c)"
   ]
  },
  {
   "cell_type": "code",
   "execution_count": 6,
   "id": "protecting-proceeding",
   "metadata": {},
   "outputs": [
    {
     "name": "stdout",
     "output_type": "stream",
     "text": [
      "-55\n",
      "1\n",
      "-55\n",
      "-1\n"
     ]
    }
   ],
   "source": [
    "print(a+b)\n",
    "print(a**c)\n",
    "print(a%b)\n",
    "print(a//b)"
   ]
  },
  {
   "cell_type": "code",
   "execution_count": 8,
   "id": "light-macro",
   "metadata": {},
   "outputs": [
    {
     "data": {
      "text/plain": [
       "'Python`s favorite food is perl'"
      ]
     },
     "execution_count": 8,
     "metadata": {},
     "output_type": "execute_result"
    }
   ],
   "source": [
    "feed= \"Python`s favorite food is perl\"\n",
    "feed"
   ]
  },
  {
   "cell_type": "code",
   "execution_count": 10,
   "id": "different-subject",
   "metadata": {},
   "outputs": [
    {
     "name": "stdout",
     "output_type": "stream",
     "text": [
      "Life is too short \n",
      " you need python\n"
     ]
    }
   ],
   "source": [
    "multiline = \"Life is too short \\n you need python\"\n",
    "print(multiline)"
   ]
  },
  {
   "cell_type": "code",
   "execution_count": 13,
   "id": "balanced-logan",
   "metadata": {},
   "outputs": [
    {
     "name": "stdout",
     "output_type": "stream",
     "text": [
      "Python is fun\n"
     ]
    },
    {
     "data": {
      "text/plain": [
       "'PythonPythonPython'"
      ]
     },
     "execution_count": 13,
     "metadata": {},
     "output_type": "execute_result"
    }
   ],
   "source": [
    "a=\"Python\"\n",
    "b=\" is fun\"\n",
    "print(a+b)\n",
    "a*3"
   ]
  },
  {
   "cell_type": "code",
   "execution_count": 14,
   "id": "immediate-indonesian",
   "metadata": {},
   "outputs": [
    {
     "data": {
      "text/plain": [
       "' i eat 3 apples'"
      ]
     },
     "execution_count": 14,
     "metadata": {},
     "output_type": "execute_result"
    }
   ],
   "source": [
    "\" i eat %d apples\" % 3"
   ]
  },
  {
   "cell_type": "code",
   "execution_count": 18,
   "id": "solid-joshua",
   "metadata": {},
   "outputs": [
    {
     "name": "stdout",
     "output_type": "stream",
     "text": [
      "a.count('t') : 3\n",
      "a.find('t') : 2\n",
      "a.find('d') : -1\n",
      "'.'.join('abcd') : a.b.c.d\n"
     ]
    }
   ],
   "source": [
    "a= \"python is the best choice\"\n",
    "print(\"a.count('t') : {}\".format(a.count('t')))\n",
    "print(\"a.find('t') : {}\".format(a.find('t')))\n",
    "print(\"a.find('d') : {}\".format(a.find('d')))\n",
    "print(\"'.'.join('abcd') : {}\".format(\".\".join(\"abcd\")))"
   ]
  },
  {
   "cell_type": "code",
   "execution_count": 19,
   "id": "specialized-spelling",
   "metadata": {},
   "outputs": [
    {
     "data": {
      "text/plain": [
       "1"
      ]
     },
     "execution_count": 19,
     "metadata": {},
     "output_type": "execute_result"
    }
   ],
   "source": [
    "add=[1,2,3,4,5]\n",
    "add[0]"
   ]
  },
  {
   "cell_type": "code",
   "execution_count": 20,
   "id": "fleet-colon",
   "metadata": {},
   "outputs": [
    {
     "data": {
      "text/plain": [
       "[1, 2, 3, 4, 5, 1, 2, 3, 4, 5, 1, 2, 3, 4, 5]"
      ]
     },
     "execution_count": 20,
     "metadata": {},
     "output_type": "execute_result"
    }
   ],
   "source": [
    "add*3"
   ]
  },
  {
   "cell_type": "code",
   "execution_count": 22,
   "id": "joined-nursery",
   "metadata": {},
   "outputs": [
    {
     "data": {
      "text/plain": [
       "['a', 'b', 'c']"
      ]
     },
     "execution_count": 22,
     "metadata": {},
     "output_type": "execute_result"
    }
   ],
   "source": [
    "a=[\"a\",\"b\",\"c\"]\n",
    "a.sort()\n",
    "a"
   ]
  },
  {
   "cell_type": "code",
   "execution_count": 23,
   "id": "contemporary-amount",
   "metadata": {},
   "outputs": [
    {
     "data": {
      "text/plain": [
       "[5, 4, 3, 2, 1]"
      ]
     },
     "execution_count": 23,
     "metadata": {},
     "output_type": "execute_result"
    }
   ],
   "source": [
    "a=[1,2,3,4,5]\n",
    "a.reverse()\n",
    "a"
   ]
  },
  {
   "cell_type": "markdown",
   "id": "subject-nursing",
   "metadata": {},
   "source": [
    "# Tuple cant modify"
   ]
  },
  {
   "cell_type": "code",
   "execution_count": 24,
   "id": "engaged-graphic",
   "metadata": {},
   "outputs": [
    {
     "ename": "TypeError",
     "evalue": "'tuple' object does not support item assignment",
     "output_type": "error",
     "traceback": [
      "\u001b[0;31m---------------------------------------------------------------------------\u001b[0m",
      "\u001b[0;31mTypeError\u001b[0m                                 Traceback (most recent call last)",
      "\u001b[0;32m<ipython-input-24-359cd2713d83>\u001b[0m in \u001b[0;36m<module>\u001b[0;34m\u001b[0m\n\u001b[1;32m      1\u001b[0m \u001b[0ma\u001b[0m\u001b[0;34m=\u001b[0m\u001b[0;34m(\u001b[0m\u001b[0;36m1\u001b[0m\u001b[0;34m,\u001b[0m\u001b[0;36m2\u001b[0m\u001b[0;34m,\u001b[0m\u001b[0;36m3\u001b[0m\u001b[0;34m,\u001b[0m\u001b[0;36m4\u001b[0m\u001b[0;34m)\u001b[0m\u001b[0;34m\u001b[0m\u001b[0;34m\u001b[0m\u001b[0m\n\u001b[0;32m----> 2\u001b[0;31m \u001b[0ma\u001b[0m\u001b[0;34m[\u001b[0m\u001b[0;36m1\u001b[0m\u001b[0;34m]\u001b[0m\u001b[0;34m=\u001b[0m \u001b[0;36m4\u001b[0m\u001b[0;34m\u001b[0m\u001b[0;34m\u001b[0m\u001b[0m\n\u001b[0m",
      "\u001b[0;31mTypeError\u001b[0m: 'tuple' object does not support item assignment"
     ]
    }
   ],
   "source": [
    "a=(1,2,3,4)\n",
    "a[1]= 4"
   ]
  },
  {
   "cell_type": "markdown",
   "id": "suburban-naples",
   "metadata": {},
   "source": [
    "# name, phone, birth => Key\n",
    "# aaa,000111222, 1234 => Value"
   ]
  },
  {
   "cell_type": "code",
   "execution_count": 25,
   "id": "level-fashion",
   "metadata": {},
   "outputs": [
    {
     "data": {
      "text/plain": [
       "{'name': 'aaa', 'phone': '000111222', 'birth': '1234'}"
      ]
     },
     "execution_count": 25,
     "metadata": {},
     "output_type": "execute_result"
    }
   ],
   "source": [
    "dic = {'name':'aaa','phone':'000111222','birth':'1234'}\n",
    "dic"
   ]
  },
  {
   "cell_type": "code",
   "execution_count": 26,
   "id": "strategic-cornwall",
   "metadata": {},
   "outputs": [
    {
     "data": {
      "text/plain": [
       "{'name': 'aaa', 'phone': '000111222', 'birth': '1234', 'num': 1}"
      ]
     },
     "execution_count": 26,
     "metadata": {},
     "output_type": "execute_result"
    }
   ],
   "source": [
    "dic[\"num\"]=1\n",
    "dic"
   ]
  },
  {
   "cell_type": "markdown",
   "id": "persistent-joseph",
   "metadata": {},
   "source": [
    "# There is no overlap"
   ]
  },
  {
   "cell_type": "code",
   "execution_count": 27,
   "id": "temporal-rover",
   "metadata": {},
   "outputs": [
    {
     "data": {
      "text/plain": [
       "{1: 'b'}"
      ]
     },
     "execution_count": 27,
     "metadata": {},
     "output_type": "execute_result"
    }
   ],
   "source": [
    "a={1:'a',1:'b'}\n",
    "a"
   ]
  },
  {
   "cell_type": "code",
   "execution_count": 28,
   "id": "collect-photography",
   "metadata": {},
   "outputs": [
    {
     "data": {
      "text/plain": [
       "dict_keys(['name', 'phone', 'birth', 'num'])"
      ]
     },
     "execution_count": 28,
     "metadata": {},
     "output_type": "execute_result"
    }
   ],
   "source": [
    "dic.keys()"
   ]
  },
  {
   "cell_type": "code",
   "execution_count": 29,
   "id": "assumed-finding",
   "metadata": {},
   "outputs": [
    {
     "data": {
      "text/plain": [
       "dict_values(['aaa', '000111222', '1234', 1])"
      ]
     },
     "execution_count": 29,
     "metadata": {},
     "output_type": "execute_result"
    }
   ],
   "source": [
    "dic.values()"
   ]
  },
  {
   "cell_type": "code",
   "execution_count": 30,
   "id": "third-tuning",
   "metadata": {},
   "outputs": [],
   "source": [
    "a1 = set([1,2,3,3])"
   ]
  },
  {
   "cell_type": "code",
   "execution_count": 31,
   "id": "framed-strategy",
   "metadata": {},
   "outputs": [
    {
     "data": {
      "text/plain": [
       "{1, 2, 3}"
      ]
     },
     "execution_count": 31,
     "metadata": {},
     "output_type": "execute_result"
    }
   ],
   "source": [
    "a1"
   ]
  },
  {
   "cell_type": "code",
   "execution_count": 32,
   "id": "laughing-redhead",
   "metadata": {},
   "outputs": [],
   "source": [
    "s2=set(\"hello\")"
   ]
  },
  {
   "cell_type": "code",
   "execution_count": 33,
   "id": "previous-phoenix",
   "metadata": {},
   "outputs": [
    {
     "data": {
      "text/plain": [
       "{'e', 'h', 'l', 'o'}"
      ]
     },
     "execution_count": 33,
     "metadata": {},
     "output_type": "execute_result"
    }
   ],
   "source": [
    "s2"
   ]
  },
  {
   "cell_type": "code",
   "execution_count": 34,
   "id": "above-array",
   "metadata": {},
   "outputs": [
    {
     "name": "stdout",
     "output_type": "stream",
     "text": [
      "type_a : <class 'bool'>\n",
      "type_a1 : <class 'set'>\n",
      "type_dic : <class 'dict'>\n"
     ]
    }
   ],
   "source": [
    "a=True\n",
    "b=False\n",
    "print(\"type_a : {}\".format(type(a)))\n",
    "print(\"type_a1 : {}\".format(type(a1)))\n",
    "print(\"type_dic : {}\".format(type(dic)))"
   ]
  },
  {
   "cell_type": "code",
   "execution_count": 35,
   "id": "soviet-constitutional",
   "metadata": {},
   "outputs": [
    {
     "data": {
      "text/plain": [
       "True"
      ]
     },
     "execution_count": 35,
     "metadata": {},
     "output_type": "execute_result"
    }
   ],
   "source": [
    "1==1"
   ]
  },
  {
   "cell_type": "code",
   "execution_count": 36,
   "id": "north-identity",
   "metadata": {},
   "outputs": [
    {
     "data": {
      "text/plain": [
       "False"
      ]
     },
     "execution_count": 36,
     "metadata": {},
     "output_type": "execute_result"
    }
   ],
   "source": [
    "1>2"
   ]
  },
  {
   "cell_type": "code",
   "execution_count": 37,
   "id": "desirable-canvas",
   "metadata": {},
   "outputs": [
    {
     "data": {
      "text/plain": [
       "[1, 2, 3]"
      ]
     },
     "execution_count": 37,
     "metadata": {},
     "output_type": "execute_result"
    }
   ],
   "source": [
    "a=[1,2,3]\n",
    "b=a\n",
    "b"
   ]
  },
  {
   "cell_type": "code",
   "execution_count": 38,
   "id": "incomplete-flower",
   "metadata": {},
   "outputs": [
    {
     "data": {
      "text/plain": [
       "[1, 4, 3]"
      ]
     },
     "execution_count": 38,
     "metadata": {},
     "output_type": "execute_result"
    }
   ],
   "source": [
    "a[1]=4\n",
    "b"
   ]
  },
  {
   "cell_type": "code",
   "execution_count": 39,
   "id": "specialized-writer",
   "metadata": {},
   "outputs": [
    {
     "data": {
      "text/plain": [
       "[1, 2, 3]"
      ]
     },
     "execution_count": 39,
     "metadata": {},
     "output_type": "execute_result"
    }
   ],
   "source": [
    "b=a[:]\n",
    "a[1]=2\n",
    "a"
   ]
  },
  {
   "cell_type": "code",
   "execution_count": 40,
   "id": "international-bankruptcy",
   "metadata": {},
   "outputs": [
    {
     "data": {
      "text/plain": [
       "[1, 4, 3]"
      ]
     },
     "execution_count": 40,
     "metadata": {},
     "output_type": "execute_result"
    }
   ],
   "source": [
    "b"
   ]
  },
  {
   "cell_type": "code",
   "execution_count": 41,
   "id": "fabulous-convention",
   "metadata": {},
   "outputs": [
    {
     "name": "stdout",
     "output_type": "stream",
     "text": [
      "2 2\n"
     ]
    }
   ],
   "source": [
    "a,b=(1,2)\n",
    "a=b=2\n",
    "print(a,b)"
   ]
  },
  {
   "cell_type": "code",
   "execution_count": 42,
   "id": "dietary-diamond",
   "metadata": {},
   "outputs": [],
   "source": [
    "a=3\n",
    "b=5\n",
    "a,b=b,a"
   ]
  },
  {
   "cell_type": "code",
   "execution_count": 43,
   "id": "understood-voluntary",
   "metadata": {},
   "outputs": [
    {
     "name": "stdout",
     "output_type": "stream",
     "text": [
      "5 3\n"
     ]
    }
   ],
   "source": [
    "print(a,b)"
   ]
  },
  {
   "cell_type": "code",
   "execution_count": 44,
   "id": "knowing-bishop",
   "metadata": {},
   "outputs": [
    {
     "name": "stdout",
     "output_type": "stream",
     "text": [
      "attact Tree : 1.\n",
      "attact Tree : 2.\n",
      "attact Tree : 3.\n",
      "attact Tree : 4.\n",
      "attact Tree : 5.\n",
      "attact Tree : 6.\n",
      "attact Tree : 7.\n",
      "attact Tree : 8.\n",
      "attact Tree : 9.\n",
      "attact Tree : 10.\n",
      "a tree falls over\n"
     ]
    }
   ],
   "source": [
    "treeHit=0\n",
    "while treeHit<10:\n",
    "    treeHit+=1\n",
    "    print(\"attact Tree : {}.\".format(treeHit))\n",
    "    if treeHit==10:\n",
    "        print(\"a tree falls over\")"
   ]
  },
  {
   "cell_type": "code",
   "execution_count": 45,
   "id": "vocal-california",
   "metadata": {},
   "outputs": [
    {
     "name": "stdout",
     "output_type": "stream",
     "text": [
      "one\n",
      "two\n",
      "Three\n"
     ]
    }
   ],
   "source": [
    "test_list = [\"one\",\"two\",\"Three\"]\n",
    "for i in test_list:\n",
    "    print(i)"
   ]
  },
  {
   "cell_type": "code",
   "execution_count": 46,
   "id": "arbitrary-lounge",
   "metadata": {},
   "outputs": [
    {
     "name": "stdout",
     "output_type": "stream",
     "text": [
      "3\n",
      "7\n",
      "11\n"
     ]
    }
   ],
   "source": [
    "a=[(1,2),(3,4),(5,6)]\n",
    "for (first,last) in a:\n",
    "    print(first+last)"
   ]
  },
  {
   "cell_type": "code",
   "execution_count": 47,
   "id": "medieval-measurement",
   "metadata": {},
   "outputs": [
    {
     "name": "stdout",
     "output_type": "stream",
     "text": [
      "number_1 is acceptance\n",
      "number_2 is non_acceptance\n",
      "number_3 is acceptance\n",
      "number_4 is non_acceptance\n",
      "number_5 is acceptance\n"
     ]
    }
   ],
   "source": [
    "scores = [90,25,67,45,80]\n",
    "num=0\n",
    "for score in scores:\n",
    "    num+=1\n",
    "    if score>=60:\n",
    "        print(\"number_{} is acceptance\".format(num))\n",
    "    else:\n",
    "        print(\"number_{} is non_acceptance\".format(num))"
   ]
  },
  {
   "cell_type": "code",
   "execution_count": 48,
   "id": "acceptable-height",
   "metadata": {},
   "outputs": [
    {
     "name": "stdout",
     "output_type": "stream",
     "text": [
      "1\n",
      "3\n",
      "6\n",
      "10\n",
      "15\n",
      "21\n",
      "28\n",
      "36\n",
      "45\n"
     ]
    }
   ],
   "source": [
    "add=0\n",
    "for i in range(1,10):\n",
    "    add+=i\n",
    "    print(add)"
   ]
  },
  {
   "cell_type": "code",
   "execution_count": 50,
   "id": "atomic-grade",
   "metadata": {},
   "outputs": [
    {
     "name": "stdout",
     "output_type": "stream",
     "text": [
      "[1, 2, 3, 4, 5, 6, 7, 8, 9, 2, 4, 6, 8, 10, 12, 14, 16, 18, 3, 6, 9, 12, 15, 18, 21, 24, 27, 4, 8, 12, 16, 20, 24, 28, 32, 36, 5, 10, 15, 20, 25, 30, 35, 40, 45, 6, 12, 18, 24, 30, 36, 42, 48, 54, 7, 14, 21, 28, 35, 42, 49, 56, 63, 8, 16, 24, 32, 40, 48, 56, 64, 72, 9, 18, 27, 36, 45, 54, 63, 72, 81]\n"
     ]
    }
   ],
   "source": [
    "result = [i*j for i in range(1,10) for j in range(1,10)]\n",
    "print(result)"
   ]
  },
  {
   "cell_type": "code",
   "execution_count": 77,
   "id": "developing-checkout",
   "metadata": {},
   "outputs": [],
   "source": [
    "result=[i for i in range(10) if i%2==0]"
   ]
  },
  {
   "cell_type": "code",
   "execution_count": 78,
   "id": "visible-cutting",
   "metadata": {},
   "outputs": [
    {
     "data": {
      "text/plain": [
       "[0, 2, 4, 6, 8]"
      ]
     },
     "execution_count": 78,
     "metadata": {},
     "output_type": "execute_result"
    }
   ],
   "source": [
    "result"
   ]
  },
  {
   "cell_type": "code",
   "execution_count": 51,
   "id": "sapphire-gasoline",
   "metadata": {},
   "outputs": [
    {
     "name": "stdout",
     "output_type": "stream",
     "text": [
      "0 1 2 3 4 5 6 7 8 9 "
     ]
    }
   ],
   "source": [
    "for i in range(10):\n",
    "    print(i, end=' ')"
   ]
  },
  {
   "cell_type": "code",
   "execution_count": 52,
   "id": "modified-cruise",
   "metadata": {},
   "outputs": [],
   "source": [
    "class Calculator:\n",
    "    def __init__(self):\n",
    "        self.result=0\n",
    "        \n",
    "    def add(self, num):\n",
    "        self.result+=num\n",
    "        return self.result"
   ]
  },
  {
   "cell_type": "code",
   "execution_count": 53,
   "id": "ambient-secret",
   "metadata": {},
   "outputs": [
    {
     "name": "stdout",
     "output_type": "stream",
     "text": [
      "3\n",
      "4\n",
      "3\n",
      "7\n"
     ]
    }
   ],
   "source": [
    "print(Calculator().add(3))\n",
    "print(Calculator().add(4))\n",
    "cal1 = Calculator()\n",
    "print(cal1.add(3))\n",
    "print(cal1.add(4))"
   ]
  },
  {
   "cell_type": "code",
   "execution_count": 54,
   "id": "varying-regard",
   "metadata": {},
   "outputs": [
    {
     "name": "stdout",
     "output_type": "stream",
     "text": [
      "1.3333333333333333\n",
      "2.0\n",
      "4.0\n",
      "division by zero\n"
     ]
    }
   ],
   "source": [
    "a=[3,2,1,0,3,4]\n",
    "try :\n",
    "    for num in a:\n",
    "        print(4/num)\n",
    "except ZeroDivisionError as e:\n",
    "    print(e)"
   ]
  },
  {
   "cell_type": "markdown",
   "id": "august-capitol",
   "metadata": {},
   "source": [
    "# Numpy and Matrix"
   ]
  },
  {
   "cell_type": "code",
   "execution_count": 55,
   "id": "general-brown",
   "metadata": {},
   "outputs": [],
   "source": [
    "import numpy as np"
   ]
  },
  {
   "cell_type": "code",
   "execution_count": 56,
   "id": "unable-authority",
   "metadata": {},
   "outputs": [
    {
     "data": {
      "text/plain": [
       "'1.19.2'"
      ]
     },
     "execution_count": 56,
     "metadata": {},
     "output_type": "execute_result"
    }
   ],
   "source": [
    "np.__version__"
   ]
  },
  {
   "cell_type": "code",
   "execution_count": 57,
   "id": "macro-reynolds",
   "metadata": {},
   "outputs": [
    {
     "data": {
      "text/plain": [
       "array(['1', '2', '3', 'a', 'b'], dtype='<U21')"
      ]
     },
     "execution_count": 57,
     "metadata": {},
     "output_type": "execute_result"
    }
   ],
   "source": [
    "arrA=[1,2,3,4,5]\n",
    "matrixA = np.array(arrA)\n",
    "matrixB=np.array([1,2,3,'a','b'])\n",
    "matrixB"
   ]
  },
  {
   "cell_type": "code",
   "execution_count": 58,
   "id": "normal-courtesy",
   "metadata": {},
   "outputs": [
    {
     "data": {
      "text/plain": [
       "(5,)"
      ]
     },
     "execution_count": 58,
     "metadata": {},
     "output_type": "execute_result"
    }
   ],
   "source": [
    "matrixB.shape"
   ]
  },
  {
   "cell_type": "code",
   "execution_count": 59,
   "id": "sensitive-right",
   "metadata": {},
   "outputs": [
    {
     "data": {
      "text/plain": [
       "1"
      ]
     },
     "execution_count": 59,
     "metadata": {},
     "output_type": "execute_result"
    }
   ],
   "source": [
    "matrixB.ndim"
   ]
  },
  {
   "cell_type": "code",
   "execution_count": 60,
   "id": "pressed-application",
   "metadata": {},
   "outputs": [
    {
     "data": {
      "text/plain": [
       "5"
      ]
     },
     "execution_count": 60,
     "metadata": {},
     "output_type": "execute_result"
    }
   ],
   "source": [
    "matrixB.size"
   ]
  },
  {
   "cell_type": "code",
   "execution_count": 61,
   "id": "plastic-today",
   "metadata": {},
   "outputs": [
    {
     "data": {
      "text/plain": [
       "array([0, 1, 2, 3, 4, 5, 6, 7, 8, 9])"
      ]
     },
     "execution_count": 61,
     "metadata": {},
     "output_type": "execute_result"
    }
   ],
   "source": [
    "np.arange(10)"
   ]
  },
  {
   "cell_type": "code",
   "execution_count": 62,
   "id": "material-arabic",
   "metadata": {},
   "outputs": [
    {
     "data": {
      "text/plain": [
       "array([ 1,  6, 11, 16, 21, 26])"
      ]
     },
     "execution_count": 62,
     "metadata": {},
     "output_type": "execute_result"
    }
   ],
   "source": [
    "np.arange(1,30,5)"
   ]
  },
  {
   "cell_type": "code",
   "execution_count": 63,
   "id": "attractive-amount",
   "metadata": {},
   "outputs": [
    {
     "data": {
      "text/plain": [
       "array([ 1,  2,  3,  4,  5,  6,  7,  8,  9, 10])"
      ]
     },
     "execution_count": 63,
     "metadata": {},
     "output_type": "execute_result"
    }
   ],
   "source": [
    "np.arange(1,11)"
   ]
  },
  {
   "cell_type": "code",
   "execution_count": 64,
   "id": "portable-october",
   "metadata": {},
   "outputs": [
    {
     "data": {
      "text/plain": [
       "array([[ 1,  2,  3,  4,  5],\n",
       "       [ 6,  7,  8,  9, 10]])"
      ]
     },
     "execution_count": 64,
     "metadata": {},
     "output_type": "execute_result"
    }
   ],
   "source": [
    "np.arange(1,11).reshape(2,5)"
   ]
  },
  {
   "cell_type": "code",
   "execution_count": 65,
   "id": "fitting-milan",
   "metadata": {},
   "outputs": [],
   "source": [
    "arr1 = np.arange(10,15)\n",
    "arr2 = np.arange(20,25)"
   ]
  },
  {
   "cell_type": "code",
   "execution_count": 66,
   "id": "minute-scientist",
   "metadata": {},
   "outputs": [
    {
     "data": {
      "text/plain": [
       "array([30, 32, 34, 36, 38])"
      ]
     },
     "execution_count": 66,
     "metadata": {},
     "output_type": "execute_result"
    }
   ],
   "source": [
    "arr1+arr2"
   ]
  },
  {
   "cell_type": "code",
   "execution_count": 67,
   "id": "sexual-sacramento",
   "metadata": {},
   "outputs": [
    {
     "data": {
      "text/plain": [
       "array([-10, -10, -10, -10, -10])"
      ]
     },
     "execution_count": 67,
     "metadata": {},
     "output_type": "execute_result"
    }
   ],
   "source": [
    "arr1 - arr2"
   ]
  },
  {
   "cell_type": "code",
   "execution_count": 68,
   "id": "durable-panel",
   "metadata": {},
   "outputs": [
    {
     "data": {
      "text/plain": [
       "(10, 14)"
      ]
     },
     "execution_count": 68,
     "metadata": {},
     "output_type": "execute_result"
    }
   ],
   "source": [
    "arr1[0],arr1[-1]"
   ]
  },
  {
   "cell_type": "code",
   "execution_count": 69,
   "id": "standing-screening",
   "metadata": {},
   "outputs": [],
   "source": [
    "matrixD=np.arange(1,31).reshape(5,6)"
   ]
  },
  {
   "cell_type": "code",
   "execution_count": 70,
   "id": "living-patient",
   "metadata": {},
   "outputs": [
    {
     "data": {
      "text/plain": [
       "array([10, 11, 12, 13, 14])"
      ]
     },
     "execution_count": 70,
     "metadata": {},
     "output_type": "execute_result"
    }
   ],
   "source": [
    "arr1"
   ]
  },
  {
   "cell_type": "code",
   "execution_count": 71,
   "id": "engaging-bikini",
   "metadata": {},
   "outputs": [
    {
     "data": {
      "text/plain": [
       "array([11, 13])"
      ]
     },
     "execution_count": 71,
     "metadata": {},
     "output_type": "execute_result"
    }
   ],
   "source": [
    "arr1[1::2]"
   ]
  },
  {
   "cell_type": "code",
   "execution_count": 72,
   "id": "integral-punishment",
   "metadata": {},
   "outputs": [
    {
     "data": {
      "text/plain": [
       "array([10, 12, 14])"
      ]
     },
     "execution_count": 72,
     "metadata": {},
     "output_type": "execute_result"
    }
   ],
   "source": [
    "arr1[0:5:2]"
   ]
  },
  {
   "cell_type": "code",
   "execution_count": 73,
   "id": "parental-julian",
   "metadata": {},
   "outputs": [
    {
     "data": {
      "text/plain": [
       "array([[ 1,  2,  3,  4,  5,  6],\n",
       "       [13, 14, 15, 16, 17, 18],\n",
       "       [25, 26, 27, 28, 29, 30]])"
      ]
     },
     "execution_count": 73,
     "metadata": {},
     "output_type": "execute_result"
    }
   ],
   "source": [
    "matrixD[::2,:]"
   ]
  },
  {
   "cell_type": "code",
   "execution_count": 74,
   "id": "developing-japan",
   "metadata": {},
   "outputs": [
    {
     "data": {
      "text/plain": [
       "array([[ 2,  4,  6],\n",
       "       [ 8, 10, 12],\n",
       "       [14, 16, 18],\n",
       "       [20, 22, 24],\n",
       "       [26, 28, 30]])"
      ]
     },
     "execution_count": 74,
     "metadata": {},
     "output_type": "execute_result"
    }
   ],
   "source": [
    "matrixD[:,1::2]"
   ]
  },
  {
   "cell_type": "code",
   "execution_count": null,
   "id": "considered-speed",
   "metadata": {},
   "outputs": [],
   "source": []
  }
 ],
 "metadata": {
  "kernelspec": {
   "display_name": "Python 3",
   "language": "python",
   "name": "python3"
  },
  "language_info": {
   "codemirror_mode": {
    "name": "ipython",
    "version": 3
   },
   "file_extension": ".py",
   "mimetype": "text/x-python",
   "name": "python",
   "nbconvert_exporter": "python",
   "pygments_lexer": "ipython3",
   "version": "3.6.12"
  }
 },
 "nbformat": 4,
 "nbformat_minor": 5
}
